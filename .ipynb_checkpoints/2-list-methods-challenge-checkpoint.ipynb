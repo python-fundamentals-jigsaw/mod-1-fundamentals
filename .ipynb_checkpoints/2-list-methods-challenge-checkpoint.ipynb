{
 "cells": [
  {
   "cell_type": "markdown",
   "id": "0bda5ce3-04ef-4033-869c-6b718ce71a8f",
   "metadata": {},
   "source": [
    "# List Methods Challenge"
   ]
  },
  {
   "cell_type": "markdown",
   "id": "6579ce20-1319-4fca-9c58-b3a39784ff5b",
   "metadata": {},
   "source": [
    "### Introduction"
   ]
  },
  {
   "cell_type": "markdown",
   "id": "ec18aae5-14e1-4da6-9493-3d6398679f5c",
   "metadata": {},
   "source": [
    "Let's take another look at the list methods challenge from the last lab."
   ]
  },
  {
   "cell_type": "markdown",
   "id": "600df2d5-e44a-4630-9a55-27be02bcfd0d",
   "metadata": {},
   "source": [
    "### Problem"
   ]
  },
  {
   "cell_type": "markdown",
   "id": "84ffd55f-8049-4a96-87c1-153fd44bc1b9",
   "metadata": {},
   "source": [
    "Now here are a list of customers that our restaurant had in the past day. Find the number of customers that showed up more than once."
   ]
  },
  {
   "cell_type": "markdown",
   "id": "a67dd6d4-5b0d-4382-9162-6a09cb449fb4",
   "metadata": {},
   "source": [
    "> We can start with the scenario where a customer only shows up for a maximum of two times."
   ]
  },
  {
   "cell_type": "code",
   "execution_count": 6,
   "id": "a45c0eaf-cb5e-4031-9d89-507daee5628f",
   "metadata": {},
   "outputs": [],
   "source": [
    "customers = ['Lowell Appleberry', 'Elisha Guillen', \n",
    "             'Benita Ryals', 'Benita Ryals']"
   ]
  },
  {
   "cell_type": "code",
   "execution_count": 7,
   "id": "4cd08e57-43ff-4262-8527-e4121a55d6b9",
   "metadata": {},
   "outputs": [
    {
     "data": {
      "text/plain": [
       "1"
      ]
     },
     "execution_count": 7,
     "metadata": {},
     "output_type": "execute_result"
    }
   ],
   "source": [
    "\n",
    "# 1"
   ]
  },
  {
   "cell_type": "markdown",
   "id": "51902a87-1d95-46ae-8214-710b78258120",
   "metadata": {},
   "source": [
    "> Then update the code so that it also handles the scenario where a person can show up three or more times."
   ]
  },
  {
   "cell_type": "code",
   "execution_count": 1,
   "id": "da0d6094-0cb5-489a-ba7c-b3f5158c884c",
   "metadata": {},
   "outputs": [],
   "source": [
    "customers = ['Lowell Appleberry', 'Elisha Guillen', \n",
    "             'Benita Ryals', 'Benita Ryals', 'Benita Ryals', 'Lowell Appleberry']"
   ]
  },
  {
   "cell_type": "code",
   "execution_count": 4,
   "id": "a736e00f-937d-4fe2-ae66-e2c393ea8ad5",
   "metadata": {},
   "outputs": [
    {
     "data": {
      "text/plain": [
       "['Benita Ryals', 'Lowell Appleberry']"
      ]
     },
     "execution_count": 4,
     "metadata": {},
     "output_type": "execute_result"
    }
   ],
   "source": [
    "\n",
    "\n",
    "# 2"
   ]
  },
  {
   "cell_type": "code",
   "execution_count": null,
   "id": "0c1340eb-bb29-4e08-85c5-bfce48d537a5",
   "metadata": {},
   "outputs": [],
   "source": []
  }
 ],
 "metadata": {
  "kernelspec": {
   "display_name": "Python 3 (ipykernel)",
   "language": "python",
   "name": "python3"
  },
  "language_info": {
   "codemirror_mode": {
    "name": "ipython",
    "version": 3
   },
   "file_extension": ".py",
   "mimetype": "text/x-python",
   "name": "python",
   "nbconvert_exporter": "python",
   "pygments_lexer": "ipython3",
   "version": "3.10.6"
  }
 },
 "nbformat": 4,
 "nbformat_minor": 5
}
